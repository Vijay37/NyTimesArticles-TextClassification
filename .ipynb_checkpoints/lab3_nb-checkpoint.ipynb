{
 "cells": [
  {
   "cell_type": "code",
   "execution_count": null,
   "metadata": {
    "collapsed": true
   },
   "outputs": [],
   "source": [
    "#Reference: http://dlab.berkeley.edu/blog/scraping-new-york-times-articles-python-tutorial\n",
    "#Reference: https://medium.freecodecamp.org/how-to-scrape-websites-with-python-and-beautifulsoup-5946935d93fe\n",
    "from nytimesarticle import articleAPI\n",
    "import csv #Import csv\n",
    "#from bs4 import BeautifulSoup\n",
    "#import re\n",
    "import requests\n",
    "import urllib.request\n",
    "from bs4 import BeautifulSoup\n",
    "import time\n",
    "api = articleAPI('5569278a93bb41e89f68cb84499391a3')\n",
    "start_index=1\n",
    "end_index=3\n",
    "j=start_index\n",
    "# topics=['sports','entertainment','business','politics']\n",
    "topics=['politics']\n",
    "for search_word in topics :\n",
    "    j=start_index\n",
    "    while j < end_index:\n",
    "        articles = api.search( q = search_word, page = j)\n",
    "        url_count = 0\n",
    "        for i in articles['response']['docs']:\n",
    "            filename=search_word+str(j)+str(url_count)+'.txt'\n",
    "            nytimesData = open(filename, 'a+')\n",
    "        \n",
    "            url = i['web_url']\n",
    "            r = requests.get(url)\n",
    "            time.sleep(5)\n",
    "            soup = BeautifulSoup(r.content, 'html.parser')\n",
    "            for script in soup.find_all('script'):\n",
    "                script.extract()\n",
    "            pTags = soup.findAll(\"p\", text=True)\n",
    "            for paragraph in pTags:\n",
    "                para=paragraph.get_text(strip=True)\n",
    "                print(para)\n",
    "                nytimesData.write(para)\n",
    "            nytimesData.close()\n",
    "            url_count += 1\n",
    "        j += 1"
   ]
  }
 ],
 "metadata": {
  "kernelspec": {
   "display_name": "Python 3",
   "language": "python",
   "name": "python3"
  },
  "language_info": {
   "codemirror_mode": {
    "name": "ipython",
    "version": 3
   },
   "file_extension": ".py",
   "mimetype": "text/x-python",
   "name": "python",
   "nbconvert_exporter": "python",
   "pygments_lexer": "ipython3",
   "version": "3.6.3"
  }
 },
 "nbformat": 4,
 "nbformat_minor": 2
}
